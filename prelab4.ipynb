{
 "cells": [
  {
   "cell_type": "code",
   "execution_count": 3,
   "metadata": {},
   "outputs": [
    {
     "name": "stdout",
     "output_type": "stream",
     "text": [
      "Requirement already satisfied: qutip in /usr/local/python/3.10.13/lib/python3.10/site-packages (4.7.5)\n",
      "Requirement already satisfied: numpy>=1.16.6 in /home/codespace/.local/lib/python3.10/site-packages (from qutip) (1.26.4)\n",
      "Requirement already satisfied: scipy>=1.0 in /home/codespace/.local/lib/python3.10/site-packages (from qutip) (1.12.0)\n",
      "Requirement already satisfied: packaging in /home/codespace/.local/lib/python3.10/site-packages (from qutip) (23.2)\n",
      "Note: you may need to restart the kernel to use updated packages.\n"
     ]
    }
   ],
   "source": [
    "pip install qutip"
   ]
  },
  {
   "cell_type": "code",
   "execution_count": 70,
   "metadata": {},
   "outputs": [],
   "source": [
    "from qutip import *\n",
    "import numpy as np\n",
    "import matplotlib.pyplot as plt\n",
    "from qutip.qip.operations import *\n",
    "np.set_printoptions(precision = 3)"
   ]
  },
  {
   "cell_type": "code",
   "execution_count": 36,
   "metadata": {},
   "outputs": [],
   "source": [
    "# spin operators\n",
    "X = sigmax()\n",
    "Y = sigmay()\n",
    "Z = sigmaz()\n",
    "I = qeye(2)\n",
    "\n",
    "II = tensor(I, I)\n",
    "\n",
    "IX = tensor(X, I)\n",
    "IY = tensor(Y, I)\n",
    "IZ = tensor(Z, I)\n",
    "\n",
    "SX = tensor(I, X)\n",
    "SY = tensor(I, Y)\n",
    "SZ = tensor(I, Z)\n",
    "\n",
    "IZSZ = tensor(Z, Z) # J coupling"
   ]
  },
  {
   "cell_type": "code",
   "execution_count": 37,
   "metadata": {},
   "outputs": [],
   "source": [
    "R = lambda state, angle: ((state * -1j * angle) / 2).expm()\n",
    "\n",
    "Ix = lambda angle: R(IX, angle)\n",
    "Sx = lambda angle: R(SX, angle)\n",
    "IxSx = lambda angle: R(IX, angle) + R(SX, angle)\n",
    "\n",
    "Iy = lambda angle: R(IY, angle)\n",
    "Sy = lambda angle: R(SY, angle)\n",
    "IySy = lambda angle: R(SX, angle) + R(SY, angle)\n",
    "\n",
    "# we cannot pulse on Z in NMR in the same way\n",
    "# so we do a composite of X and Y pulse\n",
    "Iz = lambda angle: Ix(np.pi/2) * Iy(angle) * Ix(-np.pi/2)\n",
    "Sz = lambda angle: Sx(np.pi/2) * Sy(angle) * Sx(-np.pi/2)\n",
    "IzSz = lambda angle: Iz(angle) * Sz(angle)"
   ]
  },
  {
   "cell_type": "markdown",
   "metadata": {},
   "source": [
    "##### Pulse Sequence Phases (3rd Param)\n",
    "+x = 0\n",
    "\n",
    "+y = 1\n",
    "\n",
    "-x = 2\n",
    "\n",
    "-y = 3"
   ]
  },
  {
   "cell_type": "markdown",
   "metadata": {},
   "source": [
    "### Bit Flip\n",
    "\n",
    "Pulse Sequence for 1H: \n",
    "`pulse(1, a90H, 0, d180H)`\\\n",
    "Pulse Sequence for 13C:\n",
    "`pulse(2, a90C, 0, d180C)`\\\n",
    "Pulse Sequence for both:\n",
    "`pulse(1, a90HC, 0, freq1H, 2, a90C, 0, freq13C, d180C)`"
   ]
  },
  {
   "cell_type": "code",
   "execution_count": 56,
   "metadata": {},
   "outputs": [],
   "source": [
    "def bitflip_operator(qubit):\n",
    "    if qubit == \"1H\":\n",
    "        return Ix(-np.pi)\n",
    "    elif qubit == \"13C\":\n",
    "        return Sx(-np.pi)\n",
    "    elif qubit == \"both\":\n",
    "        return IxSx(-np.pi)\n",
    "    else: \n",
    "        print(f\"Invalid qubit for bitflip. Do nothing.\")\n",
    "        return II"
   ]
  },
  {
   "cell_type": "code",
   "execution_count": 66,
   "metadata": {},
   "outputs": [
    {
     "name": "stdout",
     "output_type": "stream",
     "text": [
      "[[0. 0. 0. 0.]\n",
      " [0. 0. 0. 0.]\n",
      " [0. 0. 0. 0.]\n",
      " [0. 0. 0. 0.]]\n",
      "[[0. 0. 0. 0.]\n",
      " [0. 0. 0. 0.]\n",
      " [0. 0. 0. 0.]\n",
      " [0. 0. 0. 0.]]\n",
      "[[0. 0. 0. 0.]\n",
      " [0. 0. 0. 0.]\n",
      " [0. 0. 0. 0.]\n",
      " [0. 0. 0. 0.]]\n"
     ]
    }
   ],
   "source": [
    "print(np.array(bitflip_operator('1H')).real)\n",
    "print(np.array(bitflip_operator('13C')).real)\n",
    "print(np.array(bitflip_operator('both')).real)"
   ]
  },
  {
   "cell_type": "markdown",
   "metadata": {},
   "source": [
    "### Hadamard\n",
    "\n",
    "Pulse Sequence for 1H:\n",
    "\n",
    "`pulse(1, a90H, 0, d180H)`\\\n",
    "`delay(0.25)`\\\n",
    "`pulse(1, a90H, 1, d90H)`\n",
    "\n",
    "Pulse Sequence for 13C:\n",
    "\n",
    "`pulse(2, a90C, 0, d180C)`\\\n",
    "`delay(0.25)`\\\n",
    "`pulse(2, a90C, 1, d180C)`\n",
    "\n",
    "\n",
    "Pulse Sequence for both:\n",
    "\n",
    "`pulse(1, a90HC, 0, freq1H, 2, a90C, 0, freq13, d180C)`\\\n",
    "`delay(0.25)`\\\n",
    "`pulse(1, a90HC, 1, freq1H, 2, a90C, 1, freq13, d90C)`"
   ]
  },
  {
   "cell_type": "code",
   "execution_count": 57,
   "metadata": {},
   "outputs": [],
   "source": [
    "def hadamard_operator(qubit):\n",
    "    if qubit == \"1H\":\n",
    "        return Ix(np.pi) * Iy(np.pi/2)\n",
    "    \n",
    "    elif qubit == \"13C\":\n",
    "        return Sx(np.pi) * Sy(np.pi/2)\n",
    "\n",
    "    elif qubit == \"both\":\n",
    "        return IxSx(np.pi) * IySy(np.pi/2)\n",
    "    \n",
    "    else: \n",
    "        print(f\"Invalid qubit for Hadamard. Do nothing.\")\n",
    "        return II"
   ]
  },
  {
   "cell_type": "code",
   "execution_count": 72,
   "metadata": {},
   "outputs": [
    {
     "name": "stdout",
     "output_type": "stream",
     "text": [
      "[[0. 0. 0. 0.]\n",
      " [0. 0. 0. 0.]\n",
      " [0. 0. 0. 0.]\n",
      " [0. 0. 0. 0.]]\n",
      "[[0. 0. 0. 0.]\n",
      " [0. 0. 0. 0.]\n",
      " [0. 0. 0. 0.]\n",
      " [0. 0. 0. 0.]]\n",
      "[[-1.  0.  0. -1.]\n",
      " [ 0. -1. -1.  0.]\n",
      " [ 0. -1. -1.  0.]\n",
      " [-1.  0.  0. -1.]]\n"
     ]
    }
   ],
   "source": [
    "print(np.sqrt(2) * np.array(hadamard_operator('1H')).real)\n",
    "print(np.sqrt(2) * np.array(hadamard_operator('13C')).real)\n",
    "print(np.sqrt(2) * np.array(hadamard_operator('both')).real)"
   ]
  },
  {
   "cell_type": "markdown",
   "metadata": {},
   "source": [
    "### CZ\n",
    "\n",
    "Composite Iz pulse on NMR:\n",
    "\n",
    "`pulse(1, a90H, 0, d90H)`\\\n",
    "`delay(0.25)`\\\n",
    "`pulse(1, a90H, 1, d90H)`\\\n",
    "`delay(0.25)`\\\n",
    "`pulse(1, d90H, 2, d90H)`\\\n",
    "`delay(0.25)`\n",
    "\n",
    "Composite Sz pulse on NMR:\\\n",
    "`pulse(2, a90C, 0, d90C)`\\\n",
    "`delay(0.25)`\\\n",
    "`pulse(2, a90C, 1, d90C)`\\\n",
    "`delay(0.25)`\\\n",
    "`pulse(2, a90C, 2, d90C)`"
   ]
  },
  {
   "cell_type": "code",
   "execution_count": 58,
   "metadata": {},
   "outputs": [],
   "source": [
    "def CZ_operator():\n",
    "    Iz = Ix(np.pi/2) * Iy(np.pi/2) * Ix(-np.pi/2)\n",
    "    Sz = Sx(np.pi/2) * Sy(np.pi/2) * Sx(-np.pi/2)\n",
    "    return  Iz * Sz * IzSz(-np.pi) # what we can implement on NMR"
   ]
  },
  {
   "cell_type": "code",
   "execution_count": 74,
   "metadata": {},
   "outputs": [
    {
     "name": "stdout",
     "output_type": "stream",
     "text": [
      "[[0.+1.j 0.+0.j 0.+0.j 0.+0.j]\n",
      " [0.+0.j 1.+0.j 0.+0.j 0.+0.j]\n",
      " [0.+0.j 0.+0.j 1.+0.j 0.+0.j]\n",
      " [0.+0.j 0.+0.j 0.+0.j 0.-1.j]]\n"
     ]
    }
   ],
   "source": [
    "print(np.array(CZ_operator()))"
   ]
  },
  {
   "cell_type": "markdown",
   "metadata": {},
   "source": [
    "#### CNOT\n",
    "\n",
    "Pulse Sequence for Approximate CNOT:\n",
    "\n",
    "`pulse(2, a90C, 0, d90C)` \\\n",
    "`delay(dEvolution)` \\\n",
    "`pulse(2, a90C, 1, d90C)`\n",
    "\n",
    "Pulse Sequence for Actual CNOT:\n",
    "\n",
    "`pulse(2, a90C, 1, d45C)`\\\n",
    "`delay(0.25)`\\\n",
    "`pulse(2, a90C, 0, d180C)`\\\n",
    "`delay(0.25)`\\\n",
    "`pulse(2, a90C, 3, d45C)`\\\n",
    "`delay(0.25)`\n",
    "\n",
    "`pulse(1, a90H, 2, d90H)`\\\n",
    "`delay(0.25)`\\\n",
    "`pulse(1, a90H, 1, d90H)`\\\n",
    "`delay(0.25)`\\\n",
    "`pulse(1, a90H, 0, d90H)` \\\n",
    "`delay(0.25)`\n",
    "\n",
    "`pulse(2, a90C, 2, d90C)`\\\n",
    "`delay(0.25)`\\\n",
    "`pulse(2, a90C, 1, d90C)`\\\n",
    "`delay(0.25)`\\\n",
    "`pulse(2, a90C, 0, d90C)`\n",
    "\n",
    "`delay(dEvolution)`\n",
    "\n",
    "`pulse(2, a90C, 1, d45C)`\\\n",
    "`delay(0.25)`\\\n",
    "`pulse(2, a90C, 0, d180C)`\\\n",
    "`delay(0.25)`\\\n",
    "`pulse(2, a90C, 3, d45C)`\n",
    "\n"
   ]
  },
  {
   "cell_type": "code",
   "execution_count": 59,
   "metadata": {},
   "outputs": [],
   "source": [
    "def CNOT_operator():\n",
    "    return hadamard_operator('13C') * CZ_operator() * hadamard_operator('13C')"
   ]
  },
  {
   "cell_type": "code",
   "execution_count": 73,
   "metadata": {},
   "outputs": [
    {
     "name": "stdout",
     "output_type": "stream",
     "text": [
      "[[-0.5-0.5j  0.5-0.5j  0. +0.j   0. +0.j ]\n",
      " [ 0.5-0.5j -0.5-0.5j  0. +0.j   0. +0.j ]\n",
      " [ 0. +0.j   0. +0.j  -0.5+0.5j -0.5-0.5j]\n",
      " [ 0. +0.j   0. +0.j  -0.5-0.5j -0.5+0.5j]]\n"
     ]
    }
   ],
   "source": [
    "print(np.array(CNOT_operator()))"
   ]
  },
  {
   "cell_type": "code",
   "execution_count": 62,
   "metadata": {},
   "outputs": [],
   "source": [
    "# rho thermal (not including 1/4 I)\n",
    "rho = Qobj([[5,0,0,0],\n",
    "            [0,3,0,0],\n",
    "            [0,0,-3,0],\n",
    "            [0,0,0,-5]], dims = [[2,2], [2,2]])"
   ]
  },
  {
   "cell_type": "code",
   "execution_count": 63,
   "metadata": {},
   "outputs": [],
   "source": [
    "def plot_spectra(rho, gate):\n",
    "  final = gate * rho * gate.dag()\n",
    "  final = np.matrix(final)\n",
    "\n",
    "  a = final[0,0]\n",
    "  b = final[1,1]\n",
    "  c = final[2,2]\n",
    "  d = final[3,3]\n",
    "\n",
    "  x = ['1H peak 2', '1H peak 1', '13C peak 2', '13C peak 1']\n",
    "  y = [b-d, a-c, c-d, a-b]\n",
    "\n",
    "  plt.bar(x, y)\n",
    "  plt.show()"
   ]
  },
  {
   "cell_type": "code",
   "execution_count": null,
   "metadata": {},
   "outputs": [],
   "source": []
  }
 ],
 "metadata": {
  "kernelspec": {
   "display_name": "Python 3",
   "language": "python",
   "name": "python3"
  },
  "language_info": {
   "codemirror_mode": {
    "name": "ipython",
    "version": 3
   },
   "file_extension": ".py",
   "mimetype": "text/x-python",
   "name": "python",
   "nbconvert_exporter": "python",
   "pygments_lexer": "ipython3",
   "version": "3.10.13"
  }
 },
 "nbformat": 4,
 "nbformat_minor": 2
}
