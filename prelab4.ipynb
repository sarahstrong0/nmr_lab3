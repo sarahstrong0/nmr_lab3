{
 "cells": [
  {
   "cell_type": "code",
   "execution_count": 1,
   "metadata": {},
   "outputs": [
    {
     "name": "stdout",
     "output_type": "stream",
     "text": [
      "Requirement already satisfied: qutip in /usr/local/python/3.10.13/lib/python3.10/site-packages (4.7.5)\n",
      "Requirement already satisfied: numpy>=1.16.6 in /home/codespace/.local/lib/python3.10/site-packages (from qutip) (1.26.4)\n",
      "Requirement already satisfied: scipy>=1.0 in /home/codespace/.local/lib/python3.10/site-packages (from qutip) (1.12.0)\n",
      "Requirement already satisfied: packaging in /home/codespace/.local/lib/python3.10/site-packages (from qutip) (23.2)\n",
      "Note: you may need to restart the kernel to use updated packages.\n"
     ]
    }
   ],
   "source": [
    "pip install qutip"
   ]
  },
  {
   "cell_type": "code",
   "execution_count": 2,
   "metadata": {},
   "outputs": [],
   "source": [
    "from qutip import *\n",
    "import numpy as np\n",
    "import matplotlib.pyplot as plt\n",
    "from qutip.qip.operations import *\n",
    "np.set_printoptions(precision = 3)"
   ]
  },
  {
   "cell_type": "code",
   "execution_count": 3,
   "metadata": {},
   "outputs": [],
   "source": [
    "# spin operators\n",
    "X = sigmax()\n",
    "Y = sigmay()\n",
    "Z = sigmaz()\n",
    "I = qeye(2)\n",
    "\n",
    "II = tensor(I, I)\n",
    "\n",
    "IX = tensor(X, I)\n",
    "IY = tensor(Y, I)\n",
    "IZ = tensor(Z, I)\n",
    "\n",
    "SX = tensor(I, X)\n",
    "SY = tensor(I, Y)\n",
    "SZ = tensor(I, Z)\n",
    "\n",
    "IZSZ = tensor(Z, Z) # J coupling"
   ]
  },
  {
   "cell_type": "code",
   "execution_count": 4,
   "metadata": {},
   "outputs": [],
   "source": [
    "R = lambda state, angle: (state * -1j * angle).expm()\n",
    "\n",
    "Ix = lambda angle: R(IX / 2, angle)\n",
    "Sx = lambda angle: R(SX / 2, angle)\n",
    "IxSx = lambda angle: R((IX + SX) / 2, angle)\n",
    "\n",
    "Iy = lambda angle: R(IY / 2, angle)\n",
    "Sy = lambda angle: R(SY / 2, angle)\n",
    "IySy = lambda angle: R((IY + SY) / 2, angle)\n",
    "\n",
    "# in theory we could do Iz and Sz\n",
    "Iz = lambda angle: R(IZ / 2, angle)\n",
    "Sz = lambda angle: R(SZ / 2, angle)\n",
    "\n",
    "# but we cannot pulse on Z in NMR in the same way\n",
    "# so we do a composite of X and Y pulse\n",
    "Iz_composite = lambda angle: Ix(np.pi/2) * Iy(angle) * Ix(-np.pi/2)\n",
    "Sz_composite = lambda angle: Sx(np.pi/2) * Sy(angle) * Sx(-np.pi/2)\n",
    "IzSz = lambda angle: R(IZSZ / 4, angle)\n",
    "\n",
    "# we also need\n",
    "SyIx = lambda angle: R((SY +IX) / 2, angle)\n",
    "SxIy = lambda angle: R((SX +IY) / 2, angle)"
   ]
  },
  {
   "cell_type": "markdown",
   "metadata": {},
   "source": [
    "**Pulse Sequence Phases (3rd Param in NMR `pulse(channel, amp, phase, length)`)**\\\n",
    "+x = 0\\\n",
    "+y = 1\\\n",
    "-x = 2\\\n",
    "-y = 3"
   ]
  },
  {
   "cell_type": "code",
   "execution_count": 5,
   "metadata": {},
   "outputs": [],
   "source": [
    "# helpful global phases to remember\n",
    "global_imag_phase = np.exp(-1j * np.pi / 2)\n",
    "global_neg_phase = np.exp(-1j * np.pi)"
   ]
  },
  {
   "cell_type": "markdown",
   "metadata": {},
   "source": [
    "### Question 1"
   ]
  },
  {
   "cell_type": "markdown",
   "metadata": {},
   "source": [
    "#### Bit Flip\n",
    "\n",
    "Pulse Sequence for 1H: \n",
    "`pulse(1, a90H, 0, d180H)`\\\n",
    "Pulse Sequence for 13C:\n",
    "`pulse(2, a90C, 0, d180C)`\\\n",
    "Pulse Sequence for both:\n",
    "`pulse(1, a90HC, 0, freq1H, 2, a90C, 0, freq13C, d180C)`"
   ]
  },
  {
   "cell_type": "code",
   "execution_count": 6,
   "metadata": {},
   "outputs": [],
   "source": [
    "def bitflip_operator(qubit):\n",
    "    if qubit == \"1H\":\n",
    "        return Ix(-np.pi) * global_imag_phase\n",
    "    elif qubit == \"13C\":\n",
    "        return Sx(-np.pi)  * global_imag_phase\n",
    "    elif qubit == \"both\":\n",
    "        return IxSx(-np.pi) * global_neg_phase\n",
    "    else: \n",
    "        print(f\"Invalid qubit for bitflip. Do nothing.\")\n",
    "        return II"
   ]
  },
  {
   "cell_type": "code",
   "execution_count": 7,
   "metadata": {},
   "outputs": [
    {
     "name": "stdout",
     "output_type": "stream",
     "text": [
      "Quantum object: dims = [[2, 2], [2, 2]], shape = (4, 4), type = oper, isherm = True\n",
      "Qobj data =\n",
      "[[0. 0. 1. 0.]\n",
      " [0. 0. 0. 1.]\n",
      " [1. 0. 0. 0.]\n",
      " [0. 1. 0. 0.]]\n",
      "Quantum object: dims = [[2, 2], [2, 2]], shape = (4, 4), type = oper, isherm = True\n",
      "Qobj data =\n",
      "[[0. 1. 0. 0.]\n",
      " [1. 0. 0. 0.]\n",
      " [0. 0. 0. 1.]\n",
      " [0. 0. 1. 0.]]\n",
      "Quantum object: dims = [[2, 2], [2, 2]], shape = (4, 4), type = oper, isherm = True\n",
      "Qobj data =\n",
      "[[0. 0. 0. 1.]\n",
      " [0. 0. 1. 0.]\n",
      " [0. 1. 0. 0.]\n",
      " [1. 0. 0. 0.]]\n"
     ]
    }
   ],
   "source": [
    "print(bitflip_operator('1H')) \n",
    "print(bitflip_operator('13C'))\n",
    "print(bitflip_operator('both') )"
   ]
  },
  {
   "cell_type": "markdown",
   "metadata": {},
   "source": [
    "#### Hadamard\n",
    "\n",
    "Pulse Sequence for 1H:\n",
    "\n",
    "`pulse(1, a90H, 0, d180H)`\\\n",
    "`delay(0.25)`\\\n",
    "`pulse(1, a90H, 1, d90H)`\n",
    "\n",
    "Pulse Sequence for 13C:\n",
    "\n",
    "`pulse(2, a90C, 0, d180C)`\\\n",
    "`delay(0.25)`\\\n",
    "`pulse(2, a90C, 1, d180C)`\n",
    "\n",
    "\n",
    "Pulse Sequence for both:\n",
    "\n",
    "`pulse(1, a90HC, 0, freq1H, 2, a90C, 0, freq13, d180C)`\\\n",
    "`delay(0.25)`\\\n",
    "`pulse(1, a90HC, 1, freq1H, 2, a90C, 1, freq13, d90C)`"
   ]
  },
  {
   "cell_type": "code",
   "execution_count": 8,
   "metadata": {},
   "outputs": [],
   "source": [
    "def hadamard_operator(qubit):\n",
    "    if qubit == \"1H\":\n",
    "        return Ix(np.pi) * Iy(np.pi/2) * global_imag_phase * global_neg_phase\n",
    "    \n",
    "    elif qubit == \"13C\":\n",
    "        return Sx(np.pi) * Sy(np.pi/2) * global_imag_phase * global_neg_phase\n",
    "\n",
    "    elif qubit == \"both\":\n",
    "        return IxSx(np.pi) * IySy(np.pi/2) * global_neg_phase\n",
    "    \n",
    "    else: \n",
    "        print(f\"Invalid qubit for Hadamard. Do nothing.\")\n",
    "        return II"
   ]
  },
  {
   "cell_type": "code",
   "execution_count": 9,
   "metadata": {},
   "outputs": [
    {
     "name": "stdout",
     "output_type": "stream",
     "text": [
      "Quantum object: dims = [[2, 2], [2, 2]], shape = (4, 4), type = oper, isherm = True\n",
      "Qobj data =\n",
      "[[ 1.  0.  1.  0.]\n",
      " [ 0.  1.  0.  1.]\n",
      " [ 1.  0. -1.  0.]\n",
      " [ 0.  1.  0. -1.]]\n",
      "Quantum object: dims = [[2, 2], [2, 2]], shape = (4, 4), type = oper, isherm = True\n",
      "Qobj data =\n",
      "[[ 1.  1.  0.  0.]\n",
      " [ 1. -1.  0.  0.]\n",
      " [ 0.  0.  1.  1.]\n",
      " [ 0.  0.  1. -1.]]\n",
      "Quantum object: dims = [[2, 2], [2, 2]], shape = (4, 4), type = oper, isherm = True\n",
      "Qobj data =\n",
      "[[ 1.  1.  1.  1.]\n",
      " [ 1. -1.  1. -1.]\n",
      " [ 1.  1. -1. -1.]\n",
      " [ 1. -1. -1.  1.]]\n"
     ]
    }
   ],
   "source": [
    "print(np.sqrt(2) * hadamard_operator('1H'))\n",
    "print(np.sqrt(2) * hadamard_operator('13C'))\n",
    "print(2 * hadamard_operator('both'))"
   ]
  },
  {
   "cell_type": "markdown",
   "metadata": {},
   "source": [
    "#### CZ\n",
    "\n",
    "Composite Iz pulse on NMR:\n",
    "\n",
    "`pulse(1, a90H, 0, d90H)`\\\n",
    "`delay(0.25)`\\\n",
    "`pulse(1, a90H, 1, d90H)`\\\n",
    "`delay(0.25)`\\\n",
    "`pulse(1, d90H, 2, d90H)`\\\n",
    "`delay(0.25)`\n",
    "\n",
    "Composite Sz pulse on NMR:\\\n",
    "`pulse(2, a90C, 0, d90C)`\\\n",
    "`delay(0.25)`\\\n",
    "`pulse(2, a90C, 1, d90C)`\\\n",
    "`delay(0.25)`\\\n",
    "`pulse(2, a90C, 2, d90C)`"
   ]
  },
  {
   "cell_type": "code",
   "execution_count": 10,
   "metadata": {},
   "outputs": [],
   "source": [
    "def CZ_operator(NMR=True):\n",
    "    global_phase = np.exp(1j * np.pi / 4)\n",
    "    if NMR:\n",
    "        return Iz_composite(np.pi/2) * Sz_composite(np.pi/2) * IzSz(-np.pi) * global_phase\n",
    "    else:\n",
    "        return Iz(np.pi/2) * Sz(np.pi/2) * IzSz(-np.pi)"
   ]
  },
  {
   "cell_type": "code",
   "execution_count": 11,
   "metadata": {},
   "outputs": [
    {
     "name": "stdout",
     "output_type": "stream",
     "text": [
      "Quantum object: dims = [[2, 2], [2, 2]], shape = (4, 4), type = oper, isherm = True\n",
      "Qobj data =\n",
      "[[ 1.  0.  0.  0.]\n",
      " [ 0.  1.  0.  0.]\n",
      " [ 0.  0.  1.  0.]\n",
      " [ 0.  0.  0. -1.]]\n"
     ]
    }
   ],
   "source": [
    "print(CZ_operator())"
   ]
  },
  {
   "cell_type": "markdown",
   "metadata": {},
   "source": [
    "### CNOT\n",
    "\n",
    "Pulse Sequence for Approximate CNOT:\n",
    "\n",
    "`pulse(2, a90C, 0, d90C)` \\\n",
    "`delay(dEvolution)` \\\n",
    "`pulse(2, a90C, 1, d90C)`\n",
    "\n",
    "Pulse Sequence for Actual CNOT:\n",
    "\n",
    "`pulse(2, a90C, 1, d45C)`\\\n",
    "`delay(0.25)`\\\n",
    "`pulse(2, a90C, 0, d180C)`\\\n",
    "`delay(0.25)`\\\n",
    "`pulse(2, a90C, 3, d45C)`\\\n",
    "`delay(0.25)`\n",
    "\n",
    "`pulse(1, a90H, 2, d90H)`\\\n",
    "`delay(0.25)`\\\n",
    "`pulse(1, a90H, 1, d90H)`\\\n",
    "`delay(0.25)`\\\n",
    "`pulse(1, a90H, 0, d90H)` \\\n",
    "`delay(0.25)`\n",
    "\n",
    "`pulse(2, a90C, 2, d90C)`\\\n",
    "`delay(0.25)`\\\n",
    "`pulse(2, a90C, 1, d90C)`\\\n",
    "`delay(0.25)`\\\n",
    "`pulse(2, a90C, 0, d90C)`\n",
    "\n",
    "`delay(dEvolution)`\n",
    "\n",
    "`pulse(2, a90C, 1, d45C)`\\\n",
    "`delay(0.25)`\\\n",
    "`pulse(2, a90C, 0, d180C)`\\\n",
    "`delay(0.25)`\\\n",
    "`pulse(2, a90C, 3, d45C)`\n",
    "\n"
   ]
  },
  {
   "cell_type": "code",
   "execution_count": 12,
   "metadata": {},
   "outputs": [],
   "source": [
    "def CNOT_operator(approx=False):\n",
    "    # global_phase = np.exp(1j * np.pi / 4)\n",
    "    if not approx: \n",
    "        return hadamard_operator('13C') * CZ_operator() * hadamard_operator('13C')\n",
    "    else:\n",
    "        return Sz(-np.pi/2) * Sx(np.pi/2) * IzSz(np.pi) * Sy(np.pi/2) * Iz(np.pi/2) "
   ]
  },
  {
   "cell_type": "code",
   "execution_count": 13,
   "metadata": {},
   "outputs": [
    {
     "name": "stdout",
     "output_type": "stream",
     "text": [
      "Quantum object: dims = [[2, 2], [2, 2]], shape = (4, 4), type = oper, isherm = True\n",
      "Qobj data =\n",
      "[[1. 0. 0. 0.]\n",
      " [0. 1. 0. 0.]\n",
      " [0. 0. 0. 1.]\n",
      " [0. 0. 1. 0.]]\n",
      "Quantum object: dims = [[2, 2], [2, 2]], shape = (4, 4), type = oper, isherm = False\n",
      "Qobj data =\n",
      "[[0.707-0.707j 0.   +0.j    0.   +0.j    0.   +0.j   ]\n",
      " [0.   +0.j    0.707-0.707j 0.   +0.j    0.   +0.j   ]\n",
      " [0.   +0.j    0.   +0.j    0.   +0.j    0.707-0.707j]\n",
      " [0.   +0.j    0.   +0.j    0.707-0.707j 0.   +0.j   ]]\n"
     ]
    }
   ],
   "source": [
    "print(CNOT_operator(approx=False))\n",
    "print(CNOT_operator(approx=True))"
   ]
  },
  {
   "cell_type": "markdown",
   "metadata": {},
   "source": [
    "Lets plot the expected spectra for each of these gates on our NMR system"
   ]
  },
  {
   "cell_type": "code",
   "execution_count": 14,
   "metadata": {},
   "outputs": [],
   "source": [
    "# rho thermal (not including 1/4 I)\n",
    "rho = Qobj([[5,0,0,0],\n",
    "            [0,3,0,0],\n",
    "            [0,0,-3,0],\n",
    "            [0,0,0,-5]], dims = [[2,2], [2,2]])"
   ]
  },
  {
   "cell_type": "code",
   "execution_count": 15,
   "metadata": {},
   "outputs": [],
   "source": [
    "def evolve_density_matrix(rho, gate):\n",
    "  evolved_rho = gate * rho * gate.dag()\n",
    "\n",
    "  a = np.array(evolved_rho)[0,0]\n",
    "  b = np.array(evolved_rho)[1,1]\n",
    "  c = np.array(evolved_rho)[2,2]\n",
    "  d = np.array(evolved_rho)[3,3]\n",
    "\n",
    "  return (a,b,c,d)\n",
    "\n",
    "def sum_P0_P1_P2(P0_spectra, P1_spectra, P2_spectra):\n",
    "    a = P0_spectra[0] + P1_spectra[0] + P2_spectra[0]\n",
    "    b = P0_spectra[1] + P1_spectra[1] + P2_spectra[1]\n",
    "    c = P0_spectra[2] + P1_spectra[2] + P2_spectra[2]\n",
    "    d = P0_spectra[3] + P1_spectra[3] + P2_spectra[3]\n",
    "\n",
    "    return a,b,c,d\n",
    "\n",
    "\n",
    "def plot_spectra(spectra_abcd, label, show=True):\n",
    "  a,b,c,d = spectra_abcd\n",
    "  x = ['1H peak 2', '1H peak 1', '13C peak 2', '13C peak 1']\n",
    "  y = [b-d, a-c, c-d, a-b]\n",
    "\n",
    "  if show:\n",
    "    plt.bar(x, y)\n",
    "    plt.xlabel('Frequency')\n",
    "    plt.ylabel('Signal Amplitude')\n",
    "    plt.grid(True)\n",
    "    plt.title(label)\n",
    "    plt.show()\n",
    "\n",
    "  return y\n",
    "\n",
    "def solve_linear_abcd(peaks, state):\n",
    "    peak1, peak2, peak3, peak4 = peaks\n",
    "    A = np.array([\n",
    "        [0, 1, 0, -1],  # for equation b-d = v1\n",
    "        [1, 0, -1, 0],  # for equation a-c = v2\n",
    "        [0, 0, 1, -1],  # for equation c-d = v3\n",
    "        [1, -1, 0, 0]   # for equation a-b = v4\n",
    "    ])\n",
    "\n",
    "    B = np.array([peak1, peak2, peak3, peak4])\n",
    "\n",
    "    # solve linear equations using least squares\n",
    "    x, residuals, rank, s = np.linalg.lstsq(A, B, rcond=None)\n",
    "\n",
    "    print(f\"Solving for a,b,c,d for|{state}> is approximately:\", x.real)\n"
   ]
  },
  {
   "cell_type": "markdown",
   "metadata": {},
   "source": [
    "### Question 2"
   ]
  },
  {
   "cell_type": "markdown",
   "metadata": {},
   "source": [
    "See attached drawings"
   ]
  },
  {
   "cell_type": "markdown",
   "metadata": {},
   "source": [
    "f(x) = 0: Always outputs 0, regardless of the input.\\\n",
    "f(x) = 1: Always outputs 1, regardless of the input.\\\n",
    "f(x) = x: Outputs whatever the input is.\\\n",
    "f(x) = NOT x: If the input is 0, the output is 1, and vice versa."
   ]
  },
  {
   "cell_type": "markdown",
   "metadata": {},
   "source": [
    "Let's implement the quantum circuits:"
   ]
  },
  {
   "cell_type": "code",
   "execution_count": 16,
   "metadata": {},
   "outputs": [],
   "source": [
    "def U(f):\n",
    "  if f == 0:\n",
    "    return II\n",
    "  if f == 1:\n",
    "    return bitflip_operator('13C')\n",
    "  if f == 2:\n",
    "    return CNOT_operator()\n",
    "  if f == 3:\n",
    "    return CNOT_operator() * bitflip_operator('13C')\n",
    "  \n",
    "\n",
    "# U0 = (hadamard_operator('13C') * U(0) * hadamard_operator('13C'))\n",
    "# U1 = (hadamard_operator('13C') * U(1) * hadamard_operator('13C'))\n",
    "# U2 = (hadamard_operator('13C') * U(2) * hadamard_operator('13C'))\n",
    "# U3 = (hadamard_operator('13C') * U(3) * hadamard_operator('13C'))\n",
    "\n",
    "\n",
    "# print(U(0) * global_neg_phase)\n",
    "# print(U(1) * global_imag_phase * global_neg_phase)\n",
    "# print(U(2) * global_neg_phase)\n",
    "# print(U(3) * global_imag_phase * global_neg_phase)"
   ]
  },
  {
   "cell_type": "markdown",
   "metadata": {},
   "source": [
    "### Question 3: Deutsch Jozsa\n",
    "We have all of the oracles for DJ algorithm defined above. We also need to do temporal averaging."
   ]
  },
  {
   "cell_type": "code",
   "execution_count": 17,
   "metadata": {},
   "outputs": [],
   "source": [
    "def deutsch_josza(oracle):\n",
    "\n",
    "    if oracle  == 'U0':\n",
    "        U = II\n",
    "    if oracle == 'U1':\n",
    "        U = bitflip_operator('1H')\n",
    "    if oracle == 'U2':\n",
    "        U = CNOT_operator()\n",
    "    if oracle == 'U3':\n",
    "        U = CNOT_operator() * bitflip_operator('1H')\n",
    "\n",
    "    return hadamard_operator('both') * U * hadamard_operator('both')\n",
    "    # # constant functions\n",
    "    # if oracle == 'U0':\n",
    "    #     return \n",
    "    # if oracle == 'U1':\n",
    "    #     return hadamard_operator('both') * U(1) * hadamard_operator('both')\n",
    "    # # balanced functions\n",
    "    # if oracle == 'U2':\n",
    "    #     return hadamard_operator('both') * U(2) * hadamard_operator('both')\n",
    "    # if oracle == 'U3':\n",
    "    #     return hadamard_operator('both') * U(3) * hadamard_operator('both')\n",
    " "
   ]
  },
  {
   "cell_type": "code",
   "execution_count": 18,
   "metadata": {},
   "outputs": [],
   "source": [
    "P0 = II # do nothing \n",
    "P1 = Sx(np.pi/2) * IzSz(np.pi) * SyIx(np.pi/2) * IzSz(np.pi) * Iy(np.pi/2)\n",
    "P2 = Ix(np.pi/2) * IzSz(np.pi) * SxIy(np.pi/2) * IzSz(np.pi) * Sy(np.pi/2)\n",
    "def temporal_average(rho):\n",
    "    P0 = II # do nothing \n",
    "    P1 = Sx(np.pi/2) * IzSz(np.pi) * SyIx(np.pi/2) * IzSz(np.pi) * Iy(np.pi/2)\n",
    "    P2 = Ix(np.pi/2) * IzSz(np.pi) * SxIy(np.pi/2) * IzSz(np.pi) * Sy(np.pi/2)\n",
    "\n",
    "    rho0 = P0 * rho * P0.dag()\n",
    "    rho1 = P1 * rho * P1.dag()\n",
    "    rho2 = P2 * rho * P2.dag()\n",
    "    \n",
    "    return (rho0 + rho1 + rho2)/3 + (5/3 * II)\n",
    "\n",
    "def apply_gate_tmp_avg(rho, gate, state='00'):\n",
    "    if state == '00':\n",
    "        bitflip = II\n",
    "    if state == '01':\n",
    "        bitflip = bitflip_operator('13C')\n",
    "    if state == '10':\n",
    "        bitflip = bitflip_operator('1H')\n",
    "    if state == '11':\n",
    "        bitflip = bitflip_operator('both')\n",
    "    \n",
    "\n",
    "    rho_tmp_avg = temporal_average(rho)\n",
    "    rho_state = bitflip * rho_tmp_avg * bitflip.dag()\n",
    "    rho_gate_applied = gate * rho_state * gate.dag()\n",
    "\n",
    "    return rho_gate_applied"
   ]
  },
  {
   "cell_type": "markdown",
   "metadata": {},
   "source": [
    "#### Question 4: Grover's Algorithm"
   ]
  },
  {
   "cell_type": "markdown",
   "metadata": {},
   "source": [
    "Following Appendix E in 'Quantum Information Processing with NMR' we use:\n",
    "$$ G = H^{\\otimes 2}PH^{\\otimes 2}O. $$\n",
    "Where we define oracle, O, as the CZ operator:\n",
    "$$\n",
    "O = \\begin{bmatrix}\n",
    "1 & 0 & 0 & 0 \\\\\n",
    "0 & 1 & 0 & 0 \\\\\n",
    "0 & 0 & 1 & 0 \\\\\n",
    "0 & 0 & 0 & -1\n",
    "\\end{bmatrix}\n",
    "$$\n",
    "\n",
    "and P adds a phase difference between solutions and non-solutions. For example in the |00> case:\n",
    "$$\n",
    "P = \\begin{bmatrix}\n",
    "1 & 0 & 0 & 0 \\\\\n",
    "0 & -1 & 0 & 0 \\\\\n",
    "0 & 0 & -1 & 0 \\\\\n",
    "0 & 0 & 0 & -1\n",
    "\\end{bmatrix}\n",
    "$$\n",
    "\n",
    "\n"
   ]
  },
  {
   "cell_type": "code",
   "execution_count": 19,
   "metadata": {},
   "outputs": [],
   "source": [
    "def grover(U, solution):\n",
    "    \n",
    "    H = hadamard_operator('both')\n",
    "    if solution == '11':\n",
    "        P = bitflip_operator('both') * CZ_operator() * bitflip_operator('both')\n",
    "    if solution == '10':\n",
    "        P = bitflip_operator('1H') * CZ_operator()* bitflip_operator('1H')\n",
    "    if solution == '01':\n",
    "        P = bitflip_operator('13C') * CZ_operator()* bitflip_operator('13C')\n",
    "    if solution == '00':\n",
    "        P = CZ_operator()\n",
    "\n",
    "    G =  H * U * H * P * H \n",
    "\n",
    "    return G"
   ]
  },
  {
   "cell_type": "markdown",
   "metadata": {},
   "source": [
    "Applying Grover to the state |00> for different solution states:"
   ]
  },
  {
   "cell_type": "code",
   "execution_count": 20,
   "metadata": {},
   "outputs": [
    {
     "name": "stdout",
     "output_type": "stream",
     "text": [
      "Quantum object: dims = [[2, 2], [2, 2]], shape = (4, 4), type = oper, isherm = True\n",
      "Qobj data =\n",
      "[[6.667 0.    0.    0.   ]\n",
      " [0.    0.    0.    0.   ]\n",
      " [0.    0.    0.    0.   ]\n",
      " [0.    0.    0.    0.   ]]\n",
      "Quantum object: dims = [[2, 2], [2, 2]], shape = (4, 4), type = oper, isherm = True\n",
      "Qobj data =\n",
      "[[0.    0.    0.    0.   ]\n",
      " [0.    6.667 0.    0.   ]\n",
      " [0.    0.    0.    0.   ]\n",
      " [0.    0.    0.    0.   ]]\n",
      "Quantum object: dims = [[2, 2], [2, 2]], shape = (4, 4), type = oper, isherm = True\n",
      "Qobj data =\n",
      "[[0.    0.    0.    0.   ]\n",
      " [0.    0.    0.    0.   ]\n",
      " [0.    0.    6.667 0.   ]\n",
      " [0.    0.    0.    0.   ]]\n",
      "Quantum object: dims = [[2, 2], [2, 2]], shape = (4, 4), type = oper, isherm = True\n",
      "Qobj data =\n",
      "[[0.    0.    0.    0.   ]\n",
      " [0.    0.    0.    0.   ]\n",
      " [0.    0.    0.    0.   ]\n",
      " [0.    0.    0.    6.667]]\n"
     ]
    }
   ],
   "source": [
    "oracle = CZ_operator() # O\n",
    "print(apply_gate_tmp_avg(rho, grover(oracle, solution='00'), '00'))\n",
    "print(apply_gate_tmp_avg(rho, grover(oracle, solution='01'), '00'))\n",
    "print(apply_gate_tmp_avg(rho, grover(oracle, solution='10'), '00'))\n",
    "print(apply_gate_tmp_avg(rho, grover(oracle, solution='11'), '00'))\n"
   ]
  },
  {
   "cell_type": "markdown",
   "metadata": {},
   "source": [
    "We see the outputs here give us the correct solution"
   ]
  },
  {
   "cell_type": "markdown",
   "metadata": {},
   "source": [
    "### Let's simulate all 3 algorithms"
   ]
  },
  {
   "cell_type": "code",
   "execution_count": 21,
   "metadata": {},
   "outputs": [],
   "source": [
    "def simulate_algorithm(gate, initial_state='all'):\n",
    "    rho = Qobj([[5,0,0,0],\n",
    "            [0,3,0,0],\n",
    "            [0,0,-3,0],\n",
    "            [0,0,0,-5]], dims = [[2,2], [2,2]])\n",
    "    \n",
    "    if initial_state == 'all':\n",
    "        states = ['00', '01', '10', '11']\n",
    "    else: \n",
    "        states = [initial_state]\n",
    "    \n",
    "    for state in states:\n",
    "        if state == '00':\n",
    "            bitflip = II\n",
    "        if state == '01':\n",
    "            bitflip = bitflip_operator('13C')\n",
    "        if state == '10':\n",
    "            bitflip = bitflip_operator('1H')\n",
    "        if state == '11':\n",
    "            bitflip = bitflip_operator('both')\n",
    "\n",
    "    # apply pulse sequence to get spectra peaks\n",
    "        p0_spectra = evolve_density_matrix(rho, gate * bitflip * P0)\n",
    "        # plot_spectra(p0_spectra, \"P0\")\n",
    "        p1_spectra = evolve_density_matrix(rho, gate * bitflip * P1)\n",
    "        # plot_spectra(p0_spectra, \"P1\")\n",
    "        p2_spectra = evolve_density_matrix(rho, gate * bitflip * P2)\n",
    "        # plot_spectra(p0_spectra, \"P2\")\n",
    "\n",
    "    # sum peaks for temporal averaging\n",
    "        sum_abcd = sum_P0_P1_P2(p0_spectra, p1_spectra, p2_spectra)\n",
    "\n",
    "    # plot temporal average spectra (and get temporal averaged peak heights)\n",
    "        peaks = plot_spectra(sum_abcd, f\"Temporal Average |{state}>\", show=False)\n",
    "        \n",
    "    # use peak heights from temporal average to recover a,b,c,d\n",
    "        solve_linear_abcd(peaks, state)\n"
   ]
  },
  {
   "cell_type": "code",
   "execution_count": 22,
   "metadata": {},
   "outputs": [
    {
     "name": "stdout",
     "output_type": "stream",
     "text": [
      "Simulating real CNOT\n",
      "Solving for a,b,c,d for|00> is approximately: [15. -5. -5. -5.]\n"
     ]
    },
    {
     "name": "stdout",
     "output_type": "stream",
     "text": [
      "Solving for a,b,c,d for|01> is approximately: [-5. 15. -5. -5.]\n",
      "Solving for a,b,c,d for|10> is approximately: [-5. -5. -5. 15.]\n",
      "Solving for a,b,c,d for|11> is approximately: [-5. -5. 15. -5.]\n"
     ]
    }
   ],
   "source": [
    "# CNOT real\n",
    "print(\"Simulating real CNOT\")\n",
    "simulate_algorithm(CNOT_operator())"
   ]
  },
  {
   "cell_type": "code",
   "execution_count": 23,
   "metadata": {},
   "outputs": [
    {
     "name": "stdout",
     "output_type": "stream",
     "text": [
      "Simulating Grover\n"
     ]
    },
    {
     "name": "stdout",
     "output_type": "stream",
     "text": [
      "Solving for a,b,c,d for|00> is approximately: [15. -5. -5. -5.]\n",
      "Solving for a,b,c,d for|00> is approximately: [-5. 15. -5. -5.]\n",
      "Solving for a,b,c,d for|00> is approximately: [-5. -5. 15. -5.]\n",
      "Solving for a,b,c,d for|00> is approximately: [-5. -5. -5. 15.]\n"
     ]
    }
   ],
   "source": [
    "# Grover \n",
    "print(\"Simulating Grover\")\n",
    "oracle = CZ_operator() # O\n",
    "simulate_algorithm(grover(oracle, solution='00'), '00')\n",
    "simulate_algorithm(grover(oracle, solution='01'), '00')\n",
    "simulate_algorithm(grover(oracle, solution='10'), '00')\n",
    "simulate_algorithm(grover(oracle, solution='11'), '00')\n"
   ]
  },
  {
   "cell_type": "code",
   "execution_count": 24,
   "metadata": {},
   "outputs": [
    {
     "name": "stdout",
     "output_type": "stream",
     "text": [
      "Simulating DJ\n",
      "constant f(x) = 0\n",
      "Solving for a,b,c,d for|00> is approximately: [15. -5. -5. -5.]\n",
      "constant f(x) = 1\n",
      "Solving for a,b,c,d for|00> is approximately: [15. -5. -5. -5.]\n",
      "balanced f(x) = x\n",
      "Solving for a,b,c,d for|00> is approximately: [15. -5. -5. -5.]\n",
      "balanced f(x) = !x\n"
     ]
    },
    {
     "name": "stdout",
     "output_type": "stream",
     "text": [
      "Solving for a,b,c,d for|00> is approximately: [15. -5. -5. -5.]\n"
     ]
    }
   ],
   "source": [
    "# DJ\n",
    "print(\"Simulating DJ\")\n",
    "print(\"constant f(x) = 0\")\n",
    "simulate_algorithm(deutsch_josza('U0'), '00')\n",
    "print(\"constant f(x) = 1\")\n",
    "simulate_algorithm(deutsch_josza('U1'), '00')\n",
    "print(\"balanced f(x) = x\")\n",
    "simulate_algorithm(deutsch_josza('U2'), '00')\n",
    "print(\"balanced f(x) = !x\")\n",
    "simulate_algorithm(deutsch_josza('U3'), '00')"
   ]
  },
  {
   "cell_type": "code",
   "execution_count": null,
   "metadata": {},
   "outputs": [],
   "source": [
    "\n",
    "\n"
   ]
  },
  {
   "cell_type": "code",
   "execution_count": null,
   "metadata": {},
   "outputs": [],
   "source": []
  }
 ],
 "metadata": {
  "kernelspec": {
   "display_name": "Python 3",
   "language": "python",
   "name": "python3"
  },
  "language_info": {
   "codemirror_mode": {
    "name": "ipython",
    "version": 3
   },
   "file_extension": ".py",
   "mimetype": "text/x-python",
   "name": "python",
   "nbconvert_exporter": "python",
   "pygments_lexer": "ipython3",
   "version": "3.10.13"
  }
 },
 "nbformat": 4,
 "nbformat_minor": 2
}
