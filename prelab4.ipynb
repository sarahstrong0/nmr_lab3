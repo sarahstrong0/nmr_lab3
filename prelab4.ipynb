{
 "cells": [
  {
   "cell_type": "code",
   "execution_count": 28,
   "metadata": {},
   "outputs": [
    {
     "name": "stdout",
     "output_type": "stream",
     "text": [
      "Requirement already satisfied: qutip in /usr/local/python/3.10.13/lib/python3.10/site-packages (4.7.5)\n",
      "Requirement already satisfied: numpy>=1.16.6 in /home/codespace/.local/lib/python3.10/site-packages (from qutip) (1.26.4)\n",
      "Requirement already satisfied: scipy>=1.0 in /home/codespace/.local/lib/python3.10/site-packages (from qutip) (1.12.0)\n",
      "Requirement already satisfied: packaging in /home/codespace/.local/lib/python3.10/site-packages (from qutip) (23.2)\n",
      "Note: you may need to restart the kernel to use updated packages.\n"
     ]
    }
   ],
   "source": [
    "pip install qutip"
   ]
  },
  {
   "cell_type": "code",
   "execution_count": 29,
   "metadata": {},
   "outputs": [],
   "source": [
    "from qutip import *\n",
    "import numpy as np\n",
    "import matplotlib.pyplot as plt\n",
    "from qutip.qip.operations import *\n",
    "np.set_printoptions(precision = 3)"
   ]
  },
  {
   "cell_type": "code",
   "execution_count": 30,
   "metadata": {},
   "outputs": [],
   "source": [
    "# spin operators\n",
    "X = sigmax()\n",
    "Y = sigmay()\n",
    "Z = sigmaz()\n",
    "I = qeye(2)\n",
    "\n",
    "II = tensor(I, I)\n",
    "\n",
    "IX = tensor(X, I)\n",
    "IY = tensor(Y, I)\n",
    "IZ = tensor(Z, I)\n",
    "\n",
    "SX = tensor(I, X)\n",
    "SY = tensor(I, Y)\n",
    "SZ = tensor(I, Z)\n",
    "\n",
    "IZSZ = tensor(Z, Z) # J coupling"
   ]
  },
  {
   "cell_type": "code",
   "execution_count": 31,
   "metadata": {},
   "outputs": [],
   "source": [
    "R = lambda state, angle: (state * -1j * angle).expm()\n",
    "\n",
    "Ix = lambda angle: R(IX / 2, angle)\n",
    "Sx = lambda angle: R(SX / 2, angle)\n",
    "IxSx = lambda angle: R((IX + SX) / 2, angle)\n",
    "\n",
    "Iy = lambda angle: R(IY / 2, angle)\n",
    "Sy = lambda angle: R(SY / 2, angle)\n",
    "IySy = lambda angle: R((IY + SY) / 2, angle)\n",
    "\n",
    "# in theory we could do Iz and Sz\n",
    "Iz = lambda angle: R(IZ / 2, angle)\n",
    "Sz = lambda angle: R(SZ / 2, angle)\n",
    "\n",
    "# but we cannot pulse on Z in NMR in the same way\n",
    "# so we do a composite of X and Y pulse\n",
    "Iz_composite = lambda angle: Ix(np.pi/2) * Iy(angle) * Ix(-np.pi/2)\n",
    "Sz_composite = lambda angle: Sx(np.pi/2) * Sy(angle) * Sx(-np.pi/2)\n",
    "IzSz = lambda angle: R(IZSZ / 4, angle)\n",
    "\n",
    "SyIx = lambda angle: R((SY +IX) / 2, angle)\n",
    "SxIy = lambda angle: R((SX +IY) / 2, angle)"
   ]
  },
  {
   "cell_type": "markdown",
   "metadata": {},
   "source": [
    "**Pulse Sequence Phases (3rd Param)**\\\n",
    "+x = 0\\\n",
    "+y = 1\\\n",
    "-x = 2\\\n",
    "-y = 3"
   ]
  },
  {
   "cell_type": "code",
   "execution_count": 100,
   "metadata": {},
   "outputs": [],
   "source": [
    "global_imag_phase = np.exp(-1j * np.pi / 2)\n",
    "global_neg_phase = np.exp(-1j * np.pi)"
   ]
  },
  {
   "cell_type": "markdown",
   "metadata": {},
   "source": [
    "### Bit Flip\n",
    "\n",
    "Pulse Sequence for 1H: \n",
    "`pulse(1, a90H, 0, d180H)`\\\n",
    "Pulse Sequence for 13C:\n",
    "`pulse(2, a90C, 0, d180C)`\\\n",
    "Pulse Sequence for both:\n",
    "`pulse(1, a90HC, 0, freq1H, 2, a90C, 0, freq13C, d180C)`"
   ]
  },
  {
   "cell_type": "code",
   "execution_count": 101,
   "metadata": {},
   "outputs": [],
   "source": [
    "def bitflip_operator(qubit):\n",
    "    if qubit == \"1H\":\n",
    "        return Ix(-np.pi) * global_imag_phase\n",
    "    elif qubit == \"13C\":\n",
    "        return Sx(-np.pi)  * global_imag_phase\n",
    "    elif qubit == \"both\":\n",
    "        return IxSx(-np.pi) * global_neg_phase\n",
    "    else: \n",
    "        print(f\"Invalid qubit for bitflip. Do nothing.\")\n",
    "        return II"
   ]
  },
  {
   "cell_type": "code",
   "execution_count": 102,
   "metadata": {},
   "outputs": [
    {
     "name": "stdout",
     "output_type": "stream",
     "text": [
      "Quantum object: dims = [[2, 2], [2, 2]], shape = (4, 4), type = oper, isherm = True\n",
      "Qobj data =\n",
      "[[0. 0. 1. 0.]\n",
      " [0. 0. 0. 1.]\n",
      " [1. 0. 0. 0.]\n",
      " [0. 1. 0. 0.]]\n",
      "Quantum object: dims = [[2, 2], [2, 2]], shape = (4, 4), type = oper, isherm = True\n",
      "Qobj data =\n",
      "[[0. 1. 0. 0.]\n",
      " [1. 0. 0. 0.]\n",
      " [0. 0. 0. 1.]\n",
      " [0. 0. 1. 0.]]\n",
      "Quantum object: dims = [[2, 2], [2, 2]], shape = (4, 4), type = oper, isherm = True\n",
      "Qobj data =\n",
      "[[0. 0. 0. 1.]\n",
      " [0. 0. 1. 0.]\n",
      " [0. 1. 0. 0.]\n",
      " [1. 0. 0. 0.]]\n"
     ]
    }
   ],
   "source": [
    "print(bitflip_operator('1H') ) \n",
    "print(bitflip_operator('13C'))\n",
    "print(bitflip_operator('both') )"
   ]
  },
  {
   "cell_type": "markdown",
   "metadata": {},
   "source": [
    "### Hadamard\n",
    "\n",
    "Pulse Sequence for 1H:\n",
    "\n",
    "`pulse(1, a90H, 0, d180H)`\\\n",
    "`delay(0.25)`\\\n",
    "`pulse(1, a90H, 1, d90H)`\n",
    "\n",
    "Pulse Sequence for 13C:\n",
    "\n",
    "`pulse(2, a90C, 0, d180C)`\\\n",
    "`delay(0.25)`\\\n",
    "`pulse(2, a90C, 1, d180C)`\n",
    "\n",
    "\n",
    "Pulse Sequence for both:\n",
    "\n",
    "`pulse(1, a90HC, 0, freq1H, 2, a90C, 0, freq13, d180C)`\\\n",
    "`delay(0.25)`\\\n",
    "`pulse(1, a90HC, 1, freq1H, 2, a90C, 1, freq13, d90C)`"
   ]
  },
  {
   "cell_type": "code",
   "execution_count": 113,
   "metadata": {},
   "outputs": [],
   "source": [
    "def hadamard_operator(qubit):\n",
    "    if qubit == \"1H\":\n",
    "        return Ix(np.pi) * Iy(np.pi/2) * global_imag_phase * global_neg_phase\n",
    "    \n",
    "    elif qubit == \"13C\":\n",
    "        return Sx(np.pi) * Sy(np.pi/2) * global_imag_phase * global_neg_phase\n",
    "\n",
    "    elif qubit == \"both\":\n",
    "        return IxSx(np.pi) * IySy(np.pi/2) * global_neg_phase\n",
    "    \n",
    "    else: \n",
    "        print(f\"Invalid qubit for Hadamard. Do nothing.\")\n",
    "        return II"
   ]
  },
  {
   "cell_type": "code",
   "execution_count": 112,
   "metadata": {},
   "outputs": [
    {
     "name": "stdout",
     "output_type": "stream",
     "text": [
      "Quantum object: dims = [[2, 2], [2, 2]], shape = (4, 4), type = oper, isherm = True\n",
      "Qobj data =\n",
      "[[-1.  0. -1.  0.]\n",
      " [ 0. -1.  0. -1.]\n",
      " [-1.  0.  1.  0.]\n",
      " [ 0. -1.  0.  1.]]\n",
      "Quantum object: dims = [[2, 2], [2, 2]], shape = (4, 4), type = oper, isherm = True\n",
      "Qobj data =\n",
      "[[-1. -1.  0.  0.]\n",
      " [-1.  1.  0.  0.]\n",
      " [ 0.  0. -1. -1.]\n",
      " [ 0.  0. -1.  1.]]\n",
      "Quantum object: dims = [[2, 2], [2, 2]], shape = (4, 4), type = oper, isherm = True\n",
      "Qobj data =\n",
      "[[ 1.  1.  1.  1.]\n",
      " [ 1. -1.  1. -1.]\n",
      " [ 1.  1. -1. -1.]\n",
      " [ 1. -1. -1.  1.]]\n"
     ]
    }
   ],
   "source": [
    "print(np.sqrt(2) * hadamard_operator('1H'))\n",
    "print(np.sqrt(2) * hadamard_operator('13C'))\n",
    "print(2 * hadamard_operator('both'))"
   ]
  },
  {
   "cell_type": "markdown",
   "metadata": {},
   "source": [
    "### CZ\n",
    "\n",
    "Composite Iz pulse on NMR:\n",
    "\n",
    "`pulse(1, a90H, 0, d90H)`\\\n",
    "`delay(0.25)`\\\n",
    "`pulse(1, a90H, 1, d90H)`\\\n",
    "`delay(0.25)`\\\n",
    "`pulse(1, d90H, 2, d90H)`\\\n",
    "`delay(0.25)`\n",
    "\n",
    "Composite Sz pulse on NMR:\\\n",
    "`pulse(2, a90C, 0, d90C)`\\\n",
    "`delay(0.25)`\\\n",
    "`pulse(2, a90C, 1, d90C)`\\\n",
    "`delay(0.25)`\\\n",
    "`pulse(2, a90C, 2, d90C)`"
   ]
  },
  {
   "cell_type": "code",
   "execution_count": 92,
   "metadata": {},
   "outputs": [],
   "source": [
    "def CZ_operator(NMR=True):\n",
    "    global_phase = np.exp(1j * np.pi / 4)\n",
    "    if NMR:\n",
    "        return Iz_composite(np.pi/2) * Sz_composite(np.pi/2) * IzSz(-np.pi) * global_phase\n",
    "    else:\n",
    "        return Iz(np.pi/2) * Sz(np.pi/2) * IzSz(-np.pi)"
   ]
  },
  {
   "cell_type": "code",
   "execution_count": 94,
   "metadata": {},
   "outputs": [
    {
     "name": "stdout",
     "output_type": "stream",
     "text": [
      "Quantum object: dims = [[2, 2], [2, 2]], shape = (4, 4), type = oper, isherm = True\n",
      "Qobj data =\n",
      "[[ 1.  0.  0.  0.]\n",
      " [ 0.  1.  0.  0.]\n",
      " [ 0.  0.  1.  0.]\n",
      " [ 0.  0.  0. -1.]]\n"
     ]
    }
   ],
   "source": [
    "print(CZ_operator())"
   ]
  },
  {
   "cell_type": "markdown",
   "metadata": {},
   "source": [
    "#### CNOT\n",
    "\n",
    "Pulse Sequence for Approximate CNOT:\n",
    "\n",
    "`pulse(2, a90C, 0, d90C)` \\\n",
    "`delay(dEvolution)` \\\n",
    "`pulse(2, a90C, 1, d90C)`\n",
    "\n",
    "Pulse Sequence for Actual CNOT:\n",
    "\n",
    "`pulse(2, a90C, 1, d45C)`\\\n",
    "`delay(0.25)`\\\n",
    "`pulse(2, a90C, 0, d180C)`\\\n",
    "`delay(0.25)`\\\n",
    "`pulse(2, a90C, 3, d45C)`\\\n",
    "`delay(0.25)`\n",
    "\n",
    "`pulse(1, a90H, 2, d90H)`\\\n",
    "`delay(0.25)`\\\n",
    "`pulse(1, a90H, 1, d90H)`\\\n",
    "`delay(0.25)`\\\n",
    "`pulse(1, a90H, 0, d90H)` \\\n",
    "`delay(0.25)`\n",
    "\n",
    "`pulse(2, a90C, 2, d90C)`\\\n",
    "`delay(0.25)`\\\n",
    "`pulse(2, a90C, 1, d90C)`\\\n",
    "`delay(0.25)`\\\n",
    "`pulse(2, a90C, 0, d90C)`\n",
    "\n",
    "`delay(dEvolution)`\n",
    "\n",
    "`pulse(2, a90C, 1, d45C)`\\\n",
    "`delay(0.25)`\\\n",
    "`pulse(2, a90C, 0, d180C)`\\\n",
    "`delay(0.25)`\\\n",
    "`pulse(2, a90C, 3, d45C)`\n",
    "\n"
   ]
  },
  {
   "cell_type": "code",
   "execution_count": 38,
   "metadata": {},
   "outputs": [],
   "source": [
    "def CNOT_operator(approx=False):\n",
    "    if not approx: \n",
    "        return hadamard_operator('13C') * CZ_operator() * hadamard_operator('13C')  * -global_phase\n",
    "    else:\n",
    "        return Sz(-np.pi/2) * Sx(np.pi/2) * IzSz(np.pi) * Sy(np.pi/2) * Iz(np.pi/2) * global_phase"
   ]
  },
  {
   "cell_type": "code",
   "execution_count": 39,
   "metadata": {},
   "outputs": [
    {
     "name": "stdout",
     "output_type": "stream",
     "text": [
      "Quantum object: dims = [[2, 2], [2, 2]], shape = (4, 4), type = oper, isherm = True\n",
      "Qobj data =\n",
      "[[1. 0. 0. 0.]\n",
      " [0. 1. 0. 0.]\n",
      " [0. 0. 0. 1.]\n",
      " [0. 0. 1. 0.]]\n",
      "Quantum object: dims = [[2, 2], [2, 2]], shape = (4, 4), type = oper, isherm = True\n",
      "Qobj data =\n",
      "[[1. 0. 0. 0.]\n",
      " [0. 1. 0. 0.]\n",
      " [0. 0. 0. 1.]\n",
      " [0. 0. 1. 0.]]\n"
     ]
    }
   ],
   "source": [
    "print(CNOT_operator(approx=False))\n",
    "print(CNOT_operator(approx=True))"
   ]
  },
  {
   "cell_type": "markdown",
   "metadata": {},
   "source": [
    "#### Lets plot the expected spectra for each of these gates on our NMR system"
   ]
  },
  {
   "cell_type": "code",
   "execution_count": 40,
   "metadata": {},
   "outputs": [],
   "source": [
    "# rho thermal (not including 1/4 I)\n",
    "rho = Qobj([[5,0,0,0],\n",
    "            [0,3,0,0],\n",
    "            [0,0,-3,0],\n",
    "            [0,0,0,-5]], dims = [[2,2], [2,2]])"
   ]
  },
  {
   "cell_type": "code",
   "execution_count": 41,
   "metadata": {},
   "outputs": [],
   "source": [
    "def plot_spectra(rho, gate, label=\"\"):\n",
    "  evolved_rho = gate * rho * gate.dag()\n",
    "\n",
    "  a = np.array(evolved_rho)[0,0]\n",
    "  b = np.array(evolved_rho)[1,1]\n",
    "  c = np.array(evolved_rho)[2,2]\n",
    "  d = np.array(evolved_rho)[3,3]\n",
    "\n",
    "  x = ['1H peak 2', '1H peak 1', '13C peak 2', '13C peak 1']\n",
    "  y = [b-d, a-c, c-d, a-b]\n",
    "\n",
    "  plt.bar(x, y)\n",
    "  plt.xlabel('Frequency')\n",
    "  plt.ylabel('Signal Amplitude')\n",
    "  plt.grid(True)\n",
    "  plt.title(label)\n",
    "  plt.show()"
   ]
  },
  {
   "cell_type": "code",
   "execution_count": 42,
   "metadata": {},
   "outputs": [
    {
     "name": "stderr",
     "output_type": "stream",
     "text": [
      "/home/codespace/.local/lib/python3.10/site-packages/matplotlib/cbook.py:1699: ComplexWarning: Casting complex values to real discards the imaginary part\n",
      "  return math.isfinite(val)\n",
      "/home/codespace/.local/lib/python3.10/site-packages/matplotlib/transforms.py:766: ComplexWarning: Casting complex values to real discards the imaginary part\n",
      "  points = np.asarray(points, float)\n"
     ]
    },
    {
     "data": {
      "image/png": "[encoded data removed]",
      "text/plain": [
       "<Figure size 640x480 with 1 Axes>"
      ]
     },
     "metadata": {},
     "output_type": "display_data"
    }
   ],
   "source": [
    "plot_spectra(rho, bitflip_operator('13C'), \"Bit Flip Both\")"
   ]
  },
  {
   "cell_type": "code",
   "execution_count": 43,
   "metadata": {},
   "outputs": [
    {
     "data": {
      "image/png": "[encoded data removed]",
      "text/plain": [
       "<Figure size 640x480 with 1 Axes>"
      ]
     },
     "metadata": {},
     "output_type": "display_data"
    }
   ],
   "source": [
    "plot_spectra(rho, hadamard_operator('both'), \"Hadamard both\")"
   ]
  },
  {
   "cell_type": "code",
   "execution_count": 44,
   "metadata": {},
   "outputs": [
    {
     "data": {
      "image/png": "[encoded data removed]",
      "text/plain": [
       "<Figure size 640x480 with 1 Axes>"
      ]
     },
     "metadata": {},
     "output_type": "display_data"
    }
   ],
   "source": [
    "plot_spectra(rho, CZ_operator(), \"CZ\")"
   ]
  },
  {
   "cell_type": "code",
   "execution_count": 45,
   "metadata": {},
   "outputs": [
    {
     "data": {
      "image/png": "[encoded data removed]",
      "text/plain": [
       "<Figure size 640x480 with 1 Axes>"
      ]
     },
     "metadata": {},
     "output_type": "display_data"
    }
   ],
   "source": [
    "plot_spectra(rho, CNOT_operator(), \"CNOT\")"
   ]
  },
  {
   "cell_type": "markdown",
   "metadata": {},
   "source": [
    "f(x) = 0: Always outputs 0, regardless of the input.\\\n",
    "f(x) = 1: Always outputs 1, regardless of the input.\\\n",
    "f(x) = x: Outputs whatever the input is.\\\n",
    "f(x) = NOT x: If the input is 0, the output is 1, and vice versa."
   ]
  },
  {
   "cell_type": "markdown",
   "metadata": {},
   "source": [
    "Classically we would implement the functions as follows:"
   ]
  },
  {
   "cell_type": "code",
   "execution_count": 46,
   "metadata": {},
   "outputs": [],
   "source": [
    "def f1(x):\n",
    "    return 0\n",
    "def f2(x):\n",
    "    return 1\n",
    "def f3(x):\n",
    "    return x\n",
    "def f4(x):\n",
    "    return 1 if x == 0 else 0"
   ]
  },
  {
   "cell_type": "code",
   "execution_count": 47,
   "metadata": {},
   "outputs": [
    {
     "name": "stdout",
     "output_type": "stream",
     "text": [
      "Quantum object: dims = [[2, 2], [2, 2]], shape = (4, 4), type = oper, isherm = True\n",
      "Qobj data =\n",
      "[[-1.  0.  0.  0.]\n",
      " [ 0. -1.  0.  0.]\n",
      " [ 0.  0. -1.  0.]\n",
      " [ 0.  0.  0. -1.]]\n",
      "Quantum object: dims = [[2, 2], [2, 2]], shape = (4, 4), type = oper, isherm = True\n",
      "Qobj data =\n",
      "[[ 0. -1.  0.  0.]\n",
      " [-1.  0.  0.  0.]\n",
      " [ 0.  0.  0. -1.]\n",
      " [ 0.  0. -1.  0.]]\n",
      "Quantum object: dims = [[2, 2], [2, 2]], shape = (4, 4), type = oper, isherm = True\n",
      "Qobj data =\n",
      "[[-1.  0.  0.  0.]\n",
      " [ 0. -1.  0.  0.]\n",
      " [ 0.  0.  0. -1.]\n",
      " [ 0.  0. -1.  0.]]\n",
      "Quantum object: dims = [[2, 2], [2, 2]], shape = (4, 4), type = oper, isherm = True\n",
      "Qobj data =\n",
      "[[ 0. -1.  0.  0.]\n",
      " [-1.  0.  0.  0.]\n",
      " [ 0.  0. -1.  0.]\n",
      " [ 0.  0.  0. -1.]]\n"
     ]
    }
   ],
   "source": [
    "def U(f):\n",
    "  if f == 0:\n",
    "    return II\n",
    "  if f == 1:\n",
    "    return bitflip_operator('13C')\n",
    "  if f == 2:\n",
    "    return CNOT_operator()\n",
    "  if f == 3:\n",
    "    return CNOT_operator() * bitflip_operator('13C')\n",
    "  \n",
    "\n",
    "U0 = (hadamard_operator('13C') * U(0) * hadamard_operator('13C'))\n",
    "U1 = (hadamard_operator('13C') * U(1) * hadamard_operator('13C'))\n",
    "U2 = (hadamard_operator('13C') * U(2) * hadamard_operator('13C'))\n",
    "U3 = (hadamard_operator('13C') * U(3) * hadamard_operator('13C'))\n",
    "\n",
    "\n",
    "print(U(0) * global_neg_phase)\n",
    "print(U(1) * global_imag_phase * global_neg_phase)\n",
    "print(U(2) * global_neg_phase)\n",
    "print(U(3) * global_imag_phase * global_neg_phase)"
   ]
  },
  {
   "cell_type": "markdown",
   "metadata": {},
   "source": [
    "#### Deutsch Jozsa\n",
    "We have all of the oracles for DJ algorithm defined above. We also need to do temporal averaging."
   ]
  },
  {
   "cell_type": "code",
   "execution_count": 48,
   "metadata": {},
   "outputs": [],
   "source": [
    "def deutsch_josza(oracle):\n",
    "    # constant functions\n",
    "    if oracle == 'U0':\n",
    "        return hadamard_operator('both') * U(0) * hadamard_operator('both')\n",
    "    if oracle == 'U1':\n",
    "        return hadamard_operator('both') * U(1) * hadamard_operator('both')\n",
    "    # balanced functions\n",
    "    if oracle == 'U2':\n",
    "        return hadamard_operator('both') * U(2) * hadamard_operator('both')\n",
    "    if oracle == 'U3':\n",
    "        return hadamard_operator('both') * U(3) * hadamard_operator('both')\n",
    " "
   ]
  },
  {
   "cell_type": "code",
   "execution_count": 106,
   "metadata": {},
   "outputs": [],
   "source": [
    "def temporal_average(rho):\n",
    "    P0 = II # do nothing \n",
    "    P1 = Sx(np.pi/2) * IzSz(np.pi) * SyIx(np.pi/2) * IzSz(np.pi) * Iy(np.pi/2)\n",
    "    P2 = Ix(np.pi/2) * IzSz(np.pi) * SxIy(np.pi/2) * IzSz(np.pi) * Sy(np.pi/2)\n",
    "\n",
    "    rho0 = P0 * rho * P0.dag()\n",
    "    rho1 = P1 * rho * P1.dag()\n",
    "    rho2 = P2 * rho * P2.dag()\n",
    "    \n",
    "    return (rho0 + rho1 + rho2)/3 + (5/3 * II)\n",
    "\n",
    "def apply_gate_tmp_avg(rho, gate, state='00'):\n",
    "    if state == '00':\n",
    "        bitflip = II\n",
    "    if state == '01':\n",
    "        bitflip = bitflip_operator('13C')\n",
    "    if state == '10':\n",
    "        bitflip = bitflip_operator('1H')\n",
    "    if state == '11':\n",
    "        bitflip = bitflip_operator('both')\n",
    "    \n",
    "\n",
    "    rho_tmp_avg = temporal_average(rho)\n",
    "    rho_state = bitflip * rho_tmp_avg * bitflip.dag()\n",
    "    rho_gate_applied = gate * rho_state * gate.dag()\n",
    "\n",
    "    return rho_gate_applied"
   ]
  },
  {
   "cell_type": "code",
   "execution_count": 107,
   "metadata": {},
   "outputs": [
    {
     "name": "stdout",
     "output_type": "stream",
     "text": [
      "Quantum object: dims = [[2, 2], [2, 2]], shape = (4, 4), type = oper, isherm = True\n",
      "Qobj data =\n",
      "[[0.    0.    0.    0.   ]\n",
      " [0.    6.667 0.    0.   ]\n",
      " [0.    0.    0.    0.   ]\n",
      " [0.    0.    0.    0.   ]]\n",
      "Quantum object: dims = [[2, 2], [2, 2]], shape = (4, 4), type = oper, isherm = True\n",
      "Qobj data =\n",
      "[[0.    0.    0.    0.   ]\n",
      " [0.    6.667 0.    0.   ]\n",
      " [0.    0.    0.    0.   ]\n",
      " [0.    0.    0.    0.   ]]\n",
      "Quantum object: dims = [[2, 2], [2, 2]], shape = (4, 4), type = oper, isherm = True\n",
      "Qobj data =\n",
      "[[0.    0.    0.    0.   ]\n",
      " [0.    0.    0.    0.   ]\n",
      " [0.    0.    0.    0.   ]\n",
      " [0.    0.    0.    6.667]]\n",
      "Quantum object: dims = [[2, 2], [2, 2]], shape = (4, 4), type = oper, isherm = True\n",
      "Qobj data =\n",
      "[[0.    0.    0.    0.   ]\n",
      " [0.    0.    0.    0.   ]\n",
      " [0.    0.    0.    0.   ]\n",
      " [0.    0.    0.    6.667]]\n"
     ]
    }
   ],
   "source": [
    "# print (apply_gate_tmp_avg(rho, deutsch_josza('U0'), '00'))\n",
    "# print (apply_gate_tmp_avg(rho, deutsch_josza('U1'), '00'))\n",
    "# print (apply_gate_tmp_avg(rho, deutsch_josza('U2'), '00'))\n",
    "# print (apply_gate_tmp_avg(rho, deutsch_josza('U3'), '00'))\n",
    "print (apply_gate_tmp_avg(rho, deutsch_josza('U0'), '01'))\n",
    "print (apply_gate_tmp_avg(rho, deutsch_josza('U1'), '01'))\n",
    "print (apply_gate_tmp_avg(rho, deutsch_josza('U2'), '01'))\n",
    "print (apply_gate_tmp_avg(rho, deutsch_josza('U3'), '01'))"
   ]
  },
  {
   "cell_type": "markdown",
   "metadata": {},
   "source": [
    "#### Grover's Algorithm"
   ]
  },
  {
   "cell_type": "markdown",
   "metadata": {},
   "source": [
    "$$ G = H^{\\otimes 2}PH^{\\otimes 2}O. $$\n",
    "Where we define oracle, O, as the phase flip operator:\n",
    "$$\n",
    "O = R_{y1}R_{x1}R_{y1}R_{y2}R_{x2}R_{y2}\\tau\n",
    "$$\n",
    "$$\n",
    "O = \\begin{bmatrix}\n",
    "1 & 0 & 0 & 0 \\\\\n",
    "0 & 1 & 0 & 0 \\\\\n",
    "0 & 0 & 1 & 0 \\\\\n",
    "0 & 0 & 0 & -1\n",
    "\\end{bmatrix}\n",
    "$$\n",
    "\n",
    "and P:\n",
    "$$\n",
    "P = R_{y1}R_{x1}R_{y1}R_{y2}R_{x2}R_{y2}\\tau\n",
    "$$\n",
    "$$\n",
    "P = \\begin{bmatrix}\n",
    "1 & 0 & 0 & 0 \\\\\n",
    "0 & -1 & 0 & 0 \\\\\n",
    "0 & 0 & -1 & 0 \\\\\n",
    "0 & 0 & 0 & -1\n",
    "\\end{bmatrix}\n",
    "$$\n",
    "\n",
    "\n"
   ]
  },
  {
   "cell_type": "code",
   "execution_count": 141,
   "metadata": {},
   "outputs": [],
   "source": [
    "def grover(U, state):\n",
    "    \n",
    "    H = hadamard_operator('both')\n",
    "\n",
    "    flipboth = bitflip_operator('both')\n",
    "    if state == '00':\n",
    "        P = bitflip_operator('both') * CZ_operator() * bitflip_operator('both')\n",
    "    if state == '01':\n",
    "        P = bitflip_operator('1H') * CZ_operator()* bitflip_operator('1H')\n",
    "    if state == '10':\n",
    "        P = bitflip_operator('13C') * CZ_operator()* bitflip_operator('13C')\n",
    "    if state == '11':\n",
    "        P = CZ_operator()\n",
    "\n",
    "    G =  H * U * H * P * H \n",
    "\n",
    "    return G\n",
    "\n",
    "oracle = CZ_operator()\n"
   ]
  },
  {
   "cell_type": "code",
   "execution_count": 143,
   "metadata": {},
   "outputs": [
    {
     "name": "stdout",
     "output_type": "stream",
     "text": [
      "Quantum object: dims = [[2, 2], [2, 2]], shape = (4, 4), type = oper, isherm = True\n",
      "Qobj data =\n",
      "[[0.    0.    0.    0.   ]\n",
      " [0.    0.    0.    0.   ]\n",
      " [0.    0.    0.    0.   ]\n",
      " [0.    0.    0.    6.667]]\n",
      "Quantum object: dims = [[2, 2], [2, 2]], shape = (4, 4), type = oper, isherm = True\n",
      "Qobj data =\n",
      "[[0.    0.    0.    0.   ]\n",
      " [0.    0.    0.    0.   ]\n",
      " [0.    0.    6.667 0.   ]\n",
      " [0.    0.    0.    0.   ]]\n",
      "Quantum object: dims = [[2, 2], [2, 2]], shape = (4, 4), type = oper, isherm = True\n",
      "Qobj data =\n",
      "[[0.    0.    0.    0.   ]\n",
      " [0.    6.667 0.    0.   ]\n",
      " [0.    0.    0.    0.   ]\n",
      " [0.    0.    0.    0.   ]]\n",
      "Quantum object: dims = [[2, 2], [2, 2]], shape = (4, 4), type = oper, isherm = True\n",
      "Qobj data =\n",
      "[[6.667 0.    0.    0.   ]\n",
      " [0.    0.    0.    0.   ]\n",
      " [0.    0.    0.    0.   ]\n",
      " [0.    0.    0.    0.   ]]\n"
     ]
    }
   ],
   "source": [
    "print (apply_gate_tmp_avg(rho, grover(oracle, '00'), '00'))\n",
    "print (apply_gate_tmp_avg(rho, grover(oracle, '01'), '00'))\n",
    "print (apply_gate_tmp_avg(rho, grover(oracle, '10'), '00'))\n",
    "print (apply_gate_tmp_avg(rho, grover(oracle, '11'), '00'))\n"
   ]
  },
  {
   "cell_type": "code",
   "execution_count": null,
   "metadata": {},
   "outputs": [],
   "source": []
  }
 ],
 "metadata": {
  "kernelspec": {
   "display_name": "Python 3",
   "language": "python",
   "name": "python3"
  },
  "language_info": {
   "codemirror_mode": {
    "name": "ipython",
    "version": 3
   },
   "file_extension": ".py",
   "mimetype": "text/x-python",
   "name": "python",
   "nbconvert_exporter": "python",
   "pygments_lexer": "ipython3",
   "version": "3.10.13"
  }
 },
 "nbformat": 4,
 "nbformat_minor": 2
}
